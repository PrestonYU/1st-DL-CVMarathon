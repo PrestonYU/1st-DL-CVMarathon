{
 "cells": [
  {
   "cell_type": "markdown",
   "metadata": {},
   "source": [
    "## 『本次練習內容』\n",
    "#### 運用這幾天所學觀念搭建一個CNN分類器"
   ]
  },
  {
   "cell_type": "markdown",
   "metadata": {},
   "source": [
    "## 『本次練習目的』\n",
    "  #### 熟悉CNN分類器搭建步驟與原理\n",
    "  #### 學員們可以嘗試不同搭法，如使用不同的Maxpooling層，用GlobalAveragePooling取代Flatten等等"
   ]
  },
  {
   "cell_type": "code",
   "execution_count": 1,
   "metadata": {},
   "outputs": [
    {
     "name": "stderr",
     "output_type": "stream",
     "text": [
      "Using TensorFlow backend.\n"
     ]
    }
   ],
   "source": [
    "from keras.models import Sequential\n",
    "from keras.layers import Convolution2D\n",
    "from keras.layers import MaxPooling2D\n",
    "from keras.layers import Flatten\n",
    "from keras.layers import Dense\n",
    "from keras.layers import Dropout\n",
    "from keras.layers import BatchNormalization\n",
    "from keras.datasets import cifar10\n",
    "import numpy as np\n",
    "import tensorflow as tf\n",
    "from sklearn.preprocessing import OneHotEncoder"
   ]
  },
  {
   "cell_type": "code",
   "execution_count": 2,
   "metadata": {},
   "outputs": [
    {
     "name": "stdout",
     "output_type": "stream",
     "text": [
      "(50000, 32, 32, 3)\n"
     ]
    }
   ],
   "source": [
    "(x_train, y_train), (x_test, y_test) = cifar10.load_data()\n",
    "\n",
    "print(x_train.shape) #(50000, 32, 32, 3)\n",
    "\n",
    "## Normalize Data\n",
    "def normalize(X_train,X_test):\n",
    "        mean = np.mean(X_train,axis=(0,1,2,3))\n",
    "        std = np.std(X_train, axis=(0, 1, 2, 3))\n",
    "        X_train = (X_train-mean)/(std+1e-7)\n",
    "        X_test = (X_test-mean)/(std+1e-7) \n",
    "        return X_train, X_test,mean,std\n",
    "    \n",
    "    \n",
    "## Normalize Training and Testset    \n",
    "x_train, x_test,mean_train,std_train = normalize(x_train, x_test) "
   ]
  },
  {
   "cell_type": "code",
   "execution_count": 3,
   "metadata": {},
   "outputs": [
    {
     "name": "stderr",
     "output_type": "stream",
     "text": [
      "/anaconda3/lib/python3.7/site-packages/sklearn/preprocessing/_encoders.py:415: FutureWarning: The handling of integer data will change in version 0.22. Currently, the categories are determined based on the range [0, max(values)], while in the future they will be determined based on the unique values.\n",
      "If you want the future behaviour and silence this warning, you can specify \"categories='auto'\".\n",
      "In case you used a LabelEncoder before this OneHotEncoder to convert the categories to integers, then you can now use the OneHotEncoder directly.\n",
      "  warnings.warn(msg, FutureWarning)\n"
     ]
    }
   ],
   "source": [
    "## OneHot Label 由(None, 1)-(None, 10)\n",
    "## ex. label=2,變成[0,0,1,0,0,0,0,0,0,0]\n",
    "one_hot=OneHotEncoder()\n",
    "y_train=one_hot.fit_transform(y_train).toarray()\n",
    "y_test=one_hot.transform(y_test).toarray()"
   ]
  },
  {
   "cell_type": "code",
   "execution_count": 4,
   "metadata": {},
   "outputs": [
    {
     "name": "stderr",
     "output_type": "stream",
     "text": [
      "/anaconda3/lib/python3.7/site-packages/ipykernel_launcher.py:19: UserWarning: Update your `Dense` call to the Keras 2 API: `Dense(activation=\"relu\", units=100)`\n",
      "/anaconda3/lib/python3.7/site-packages/ipykernel_launcher.py:22: UserWarning: Update your `Dense` call to the Keras 2 API: `Dense(activation=\"softmax\", units=10)`\n"
     ]
    },
    {
     "name": "stdout",
     "output_type": "stream",
     "text": [
      "Epoch 1/100\n",
      "50000/50000 [==============================] - 297s 6ms/step - loss: 1.3946 - accuracy: 0.5104\n",
      "Epoch 2/100\n",
      "50000/50000 [==============================] - 263s 5ms/step - loss: 0.9493 - accuracy: 0.6627\n",
      "Epoch 3/100\n",
      "50000/50000 [==============================] - 262s 5ms/step - loss: 0.7764 - accuracy: 0.7257\n",
      "Epoch 4/100\n",
      "50000/50000 [==============================] - 255s 5ms/step - loss: 0.6483 - accuracy: 0.7699\n",
      "Epoch 5/100\n",
      "50000/50000 [==============================] - 255s 5ms/step - loss: 0.5213 - accuracy: 0.8155\n",
      "Epoch 6/100\n",
      "50000/50000 [==============================] - 252s 5ms/step - loss: 0.4195 - accuracy: 0.8549\n",
      "Epoch 7/100\n",
      "50000/50000 [==============================] - 272s 5ms/step - loss: 0.3204 - accuracy: 0.8881\n",
      "Epoch 8/100\n",
      "50000/50000 [==============================] - 272s 5ms/step - loss: 0.2351 - accuracy: 0.9189\n",
      "Epoch 9/100\n",
      "50000/50000 [==============================] - 263s 5ms/step - loss: 0.1803 - accuracy: 0.9369\n",
      "Epoch 10/100\n",
      "50000/50000 [==============================] - 256s 5ms/step - loss: 0.1541 - accuracy: 0.9462\n",
      "Epoch 11/100\n",
      "50000/50000 [==============================] - 249s 5ms/step - loss: 0.1297 - accuracy: 0.9547\n",
      "Epoch 12/100\n",
      "50000/50000 [==============================] - 303s 6ms/step - loss: 0.1123 - accuracy: 0.9612\n",
      "Epoch 13/100\n",
      "50000/50000 [==============================] - 246s 5ms/step - loss: 0.0901 - accuracy: 0.9696\n",
      "Epoch 14/100\n",
      "50000/50000 [==============================] - 262s 5ms/step - loss: 0.0891 - accuracy: 0.9695\n",
      "Epoch 15/100\n",
      "50000/50000 [==============================] - 255s 5ms/step - loss: 0.0850 - accuracy: 0.9713\n",
      "Epoch 16/100\n",
      "50000/50000 [==============================] - 263s 5ms/step - loss: 0.0808 - accuracy: 0.9726\n",
      "Epoch 17/100\n",
      "50000/50000 [==============================] - 318s 6ms/step - loss: 0.0666 - accuracy: 0.9766\n",
      "Epoch 18/100\n",
      "50000/50000 [==============================] - 280s 6ms/step - loss: 0.0680 - accuracy: 0.9769\n",
      "Epoch 19/100\n",
      "50000/50000 [==============================] - 335s 7ms/step - loss: 0.0596 - accuracy: 0.9802\n",
      "Epoch 20/100\n",
      "50000/50000 [==============================] - 290s 6ms/step - loss: 0.0646 - accuracy: 0.9779\n",
      "Epoch 21/100\n",
      "50000/50000 [==============================] - 266s 5ms/step - loss: 0.0591 - accuracy: 0.9809\n",
      "Epoch 22/100\n",
      "50000/50000 [==============================] - 283s 6ms/step - loss: 0.0602 - accuracy: 0.9791\n",
      "Epoch 23/100\n",
      "50000/50000 [==============================] - 265s 5ms/step - loss: 0.0543 - accuracy: 0.9819\n",
      "Epoch 24/100\n",
      "50000/50000 [==============================] - 268s 5ms/step - loss: 0.0434 - accuracy: 0.9856\n",
      "Epoch 25/100\n",
      "50000/50000 [==============================] - 271s 5ms/step - loss: 0.0471 - accuracy: 0.9838\n",
      "Epoch 26/100\n",
      "50000/50000 [==============================] - 259s 5ms/step - loss: 0.0509 - accuracy: 0.9829\n",
      "Epoch 27/100\n",
      "50000/50000 [==============================] - 257s 5ms/step - loss: 0.0533 - accuracy: 0.9826\n",
      "Epoch 28/100\n",
      "50000/50000 [==============================] - 276s 6ms/step - loss: 0.0414 - accuracy: 0.9862\n",
      "Epoch 29/100\n",
      "50000/50000 [==============================] - 266s 5ms/step - loss: 0.0393 - accuracy: 0.9873\n",
      "Epoch 30/100\n",
      "50000/50000 [==============================] - 300s 6ms/step - loss: 0.0375 - accuracy: 0.9876\n",
      "Epoch 31/100\n",
      "50000/50000 [==============================] - 267s 5ms/step - loss: 0.0370 - accuracy: 0.9877\n",
      "Epoch 32/100\n",
      "50000/50000 [==============================] - 314s 6ms/step - loss: 0.0410 - accuracy: 0.9864\n",
      "Epoch 33/100\n",
      "50000/50000 [==============================] - 246s 5ms/step - loss: 0.0365 - accuracy: 0.9880\n",
      "Epoch 34/100\n",
      "50000/50000 [==============================] - 225s 4ms/step - loss: 0.0378 - accuracy: 0.9871\n",
      "Epoch 35/100\n",
      "50000/50000 [==============================] - 241s 5ms/step - loss: 0.0357 - accuracy: 0.9881\n",
      "Epoch 36/100\n",
      "50000/50000 [==============================] - 286s 6ms/step - loss: 0.0376 - accuracy: 0.9878\n",
      "Epoch 37/100\n",
      "50000/50000 [==============================] - 262s 5ms/step - loss: 0.0322 - accuracy: 0.9893\n",
      "Epoch 38/100\n",
      "50000/50000 [==============================] - 243s 5ms/step - loss: 0.0330 - accuracy: 0.9896\n",
      "Epoch 39/100\n",
      "50000/50000 [==============================] - 260s 5ms/step - loss: 0.0340 - accuracy: 0.9887\n",
      "Epoch 40/100\n",
      "50000/50000 [==============================] - 386s 8ms/step - loss: 0.0314 - accuracy: 0.9899\n",
      "Epoch 41/100\n",
      "50000/50000 [==============================] - 360s 7ms/step - loss: 0.0310 - accuracy: 0.9901\n",
      "Epoch 42/100\n",
      "50000/50000 [==============================] - 302s 6ms/step - loss: 0.0218 - accuracy: 0.9927\n",
      "Epoch 43/100\n",
      "50000/50000 [==============================] - 400s 8ms/step - loss: 0.0341 - accuracy: 0.9891\n",
      "Epoch 44/100\n",
      "50000/50000 [==============================] - 304s 6ms/step - loss: 0.0323 - accuracy: 0.9896\n",
      "Epoch 45/100\n",
      "50000/50000 [==============================] - 288s 6ms/step - loss: 0.0273 - accuracy: 0.9910\n",
      "Epoch 46/100\n",
      "50000/50000 [==============================] - 270s 5ms/step - loss: 0.0283 - accuracy: 0.9908\n",
      "Epoch 47/100\n",
      "50000/50000 [==============================] - 397s 8ms/step - loss: 0.0334 - accuracy: 0.9894\n",
      "Epoch 48/100\n",
      "50000/50000 [==============================] - 323s 6ms/step - loss: 0.0220 - accuracy: 0.9929\n",
      "Epoch 49/100\n",
      "50000/50000 [==============================] - 303s 6ms/step - loss: 0.0198 - accuracy: 0.9933\n",
      "Epoch 50/100\n",
      "50000/50000 [==============================] - 361s 7ms/step - loss: 0.0277 - accuracy: 0.9914\n",
      "Epoch 51/100\n",
      "50000/50000 [==============================] - 258s 5ms/step - loss: 0.0287 - accuracy: 0.9907\n",
      "Epoch 52/100\n",
      "50000/50000 [==============================] - 241s 5ms/step - loss: 0.0250 - accuracy: 0.9923\n",
      "Epoch 53/100\n",
      "50000/50000 [==============================] - 232s 5ms/step - loss: 0.0132 - accuracy: 0.9955\n",
      "Epoch 54/100\n",
      "50000/50000 [==============================] - 275s 6ms/step - loss: 0.0250 - accuracy: 0.9925\n",
      "Epoch 55/100\n",
      "50000/50000 [==============================] - 341s 7ms/step - loss: 0.0257 - accuracy: 0.9918\n",
      "Epoch 56/100\n",
      "50000/50000 [==============================] - 272s 5ms/step - loss: 0.0265 - accuracy: 0.9910\n",
      "Epoch 57/100\n",
      "50000/50000 [==============================] - 276s 6ms/step - loss: 0.0308 - accuracy: 0.9905\n",
      "Epoch 58/100\n",
      "50000/50000 [==============================] - 249s 5ms/step - loss: 0.0215 - accuracy: 0.9933\n",
      "Epoch 59/100\n",
      "50000/50000 [==============================] - 301s 6ms/step - loss: 0.0161 - accuracy: 0.9949\n",
      "Epoch 60/100\n",
      "50000/50000 [==============================] - 418s 8ms/step - loss: 0.0237 - accuracy: 0.9927\n",
      "Epoch 61/100\n",
      "50000/50000 [==============================] - 359s 7ms/step - loss: 0.0267 - accuracy: 0.9919\n",
      "Epoch 62/100\n",
      "50000/50000 [==============================] - 266s 5ms/step - loss: 0.0179 - accuracy: 0.9941\n",
      "Epoch 63/100\n",
      "50000/50000 [==============================] - 234s 5ms/step - loss: 0.0145 - accuracy: 0.9951\n",
      "Epoch 64/100\n",
      "50000/50000 [==============================] - 262s 5ms/step - loss: 0.0180 - accuracy: 0.9944\n",
      "Epoch 65/100\n",
      "50000/50000 [==============================] - 258s 5ms/step - loss: 0.0250 - accuracy: 0.9927\n",
      "Epoch 66/100\n",
      "50000/50000 [==============================] - 254s 5ms/step - loss: 0.0226 - accuracy: 0.9937\n",
      "Epoch 67/100\n",
      "50000/50000 [==============================] - 269s 5ms/step - loss: 0.0184 - accuracy: 0.9942\n",
      "Epoch 68/100\n",
      "50000/50000 [==============================] - 328s 7ms/step - loss: 0.0213 - accuracy: 0.9934\n",
      "Epoch 69/100\n",
      "50000/50000 [==============================] - 250s 5ms/step - loss: 0.0243 - accuracy: 0.9929\n",
      "Epoch 70/100\n",
      "50000/50000 [==============================] - 197s 4ms/step - loss: 0.0213 - accuracy: 0.9932\n",
      "Epoch 71/100\n",
      "50000/50000 [==============================] - 338s 7ms/step - loss: 0.0190 - accuracy: 0.9943\n",
      "Epoch 72/100\n",
      "50000/50000 [==============================] - 344s 7ms/step - loss: 0.0202 - accuracy: 0.9939\n",
      "Epoch 73/100\n",
      "50000/50000 [==============================] - 240s 5ms/step - loss: 0.0144 - accuracy: 0.9954\n",
      "Epoch 74/100\n",
      "50000/50000 [==============================] - 267s 5ms/step - loss: 0.0185 - accuracy: 0.9942\n",
      "Epoch 75/100\n",
      "50000/50000 [==============================] - 265s 5ms/step - loss: 0.0182 - accuracy: 0.9946\n",
      "Epoch 76/100\n"
     ]
    },
    {
     "name": "stdout",
     "output_type": "stream",
     "text": [
      "50000/50000 [==============================] - 296s 6ms/step - loss: 0.0184 - accuracy: 0.9945\n",
      "Epoch 77/100\n",
      "50000/50000 [==============================] - 283s 6ms/step - loss: 0.0140 - accuracy: 0.9958\n",
      "Epoch 78/100\n",
      "50000/50000 [==============================] - 268s 5ms/step - loss: 0.0173 - accuracy: 0.9944\n",
      "Epoch 79/100\n",
      "50000/50000 [==============================] - 244s 5ms/step - loss: 0.0170 - accuracy: 0.9944\n",
      "Epoch 80/100\n",
      "50000/50000 [==============================] - 244s 5ms/step - loss: 0.0151 - accuracy: 0.9953\n",
      "Epoch 81/100\n",
      "50000/50000 [==============================] - 278s 6ms/step - loss: 0.0175 - accuracy: 0.9945\n",
      "Epoch 82/100\n",
      "50000/50000 [==============================] - 381s 8ms/step - loss: 0.0176 - accuracy: 0.9946\n",
      "Epoch 83/100\n",
      "50000/50000 [==============================] - 365s 7ms/step - loss: 0.0185 - accuracy: 0.9943\n",
      "Epoch 84/100\n",
      "50000/50000 [==============================] - 305s 6ms/step - loss: 0.0098 - accuracy: 0.9965\n",
      "Epoch 85/100\n",
      "50000/50000 [==============================] - 241s 5ms/step - loss: 0.0189 - accuracy: 0.9942\n",
      "Epoch 86/100\n",
      "50000/50000 [==============================] - 330s 7ms/step - loss: 0.0201 - accuracy: 0.9939\n",
      "Epoch 87/100\n",
      "50000/50000 [==============================] - 373s 7ms/step - loss: 0.0149 - accuracy: 0.9952\n",
      "Epoch 88/100\n",
      "50000/50000 [==============================] - 567s 11ms/step - loss: 0.0137 - accuracy: 0.9957\n",
      "Epoch 89/100\n",
      "50000/50000 [==============================] - 673s 13ms/step - loss: 0.0132 - accuracy: 0.9958\n",
      "Epoch 90/100\n",
      "50000/50000 [==============================] - 710s 14ms/step - loss: 0.0126 - accuracy: 0.9961\n",
      "Epoch 91/100\n",
      "50000/50000 [==============================] - 596s 12ms/step - loss: 0.0148 - accuracy: 0.9955\n",
      "Epoch 92/100\n",
      "50000/50000 [==============================] - 604s 12ms/step - loss: 0.0183 - accuracy: 0.9944\n",
      "Epoch 93/100\n",
      "50000/50000 [==============================] - 611s 12ms/step - loss: 0.0155 - accuracy: 0.9949\n",
      "Epoch 94/100\n",
      "50000/50000 [==============================] - 654s 13ms/step - loss: 0.0163 - accuracy: 0.9949\n",
      "Epoch 95/100\n",
      "50000/50000 [==============================] - 605s 12ms/step - loss: 0.0122 - accuracy: 0.9964\n",
      "Epoch 96/100\n",
      "50000/50000 [==============================] - 632s 13ms/step - loss: 0.0151 - accuracy: 0.9956\n",
      "Epoch 97/100\n",
      "50000/50000 [==============================] - 611s 12ms/step - loss: 0.0127 - accuracy: 0.9961\n",
      "Epoch 98/100\n",
      "50000/50000 [==============================] - 617s 12ms/step - loss: 0.0144 - accuracy: 0.9957\n",
      "Epoch 99/100\n",
      "50000/50000 [==============================] - 590s 12ms/step - loss: 0.0109 - accuracy: 0.9966\n",
      "Epoch 100/100\n",
      "50000/50000 [==============================] - 639s 13ms/step - loss: 0.0156 - accuracy: 0.9952\n"
     ]
    },
    {
     "data": {
      "text/plain": [
       "<keras.callbacks.callbacks.History at 0x13bf0bda0>"
      ]
     },
     "execution_count": 4,
     "metadata": {},
     "output_type": "execute_result"
    }
   ],
   "source": [
    "classifier=Sequential()\n",
    "\n",
    "#卷積組合\n",
    "classifier.add(Convolution2D(input_shape=(32, 32, 3), kernel_size=(3,3), filters=32, activation='relu', padding='same'))#32,3,3,input_shape=(32,32,3),activation='relu''\n",
    "classifier.add(BatchNormalization())\n",
    "\n",
    "'''自己決定MaxPooling2D放在哪裡'''\n",
    "#classifier.add(MaxPooling2D(pool_size=(2,2)))\n",
    "\n",
    "#卷積組合\n",
    "classifier.add(Convolution2D(kernel_size=(3,3), filters=32, activation='relu', padding='same'))\n",
    "classifier.add(BatchNormalization())\n",
    "classifier.add(MaxPooling2D(pool_size=(2,2)))\n",
    "\n",
    "#flatten\n",
    "classifier.add(Flatten())\n",
    "\n",
    "#FC\n",
    "classifier.add(Dense(output_dim=100, activation='relu')) #output_dim=100,activation=relu\n",
    "\n",
    "#輸出\n",
    "classifier.add(Dense(output_dim=10,activation='softmax'))\n",
    "\n",
    "\n",
    "#超過兩個就要選categorical_crossentrophy\n",
    "classifier.compile(optimizer = 'adam', loss = 'categorical_crossentropy', metrics = ['accuracy'])\n",
    "classifier.fit(x_train,y_train,batch_size=100,epochs=100)"
   ]
  },
  {
   "cell_type": "markdown",
   "metadata": {},
   "source": [
    "## 預測新圖片，輸入影像前處理要與訓練時相同\n",
    "#### ((X-mean)/(std+1e-7) ):這裡的mean跟std是訓練集的\n",
    "## 維度如下方示範"
   ]
  },
  {
   "cell_type": "code",
   "execution_count": 5,
   "metadata": {},
   "outputs": [
    {
     "data": {
      "text/plain": [
       "array([[4.6770250e-09, 1.3585649e-25, 6.9778965e-13, 4.2221704e-03,\n",
       "        9.9577785e-01, 4.1717559e-29, 2.6708230e-23, 7.3105261e-21,\n",
       "        9.8505094e-14, 2.2676692e-21]], dtype=float32)"
      ]
     },
     "execution_count": 5,
     "metadata": {},
     "output_type": "execute_result"
    }
   ],
   "source": [
    "input_example=(np.zeros(shape=(1,32,32,3))-mean_train)/(std_train+1e-7) \n",
    "classifier.predict(input_example)"
   ]
  },
  {
   "cell_type": "code",
   "execution_count": null,
   "metadata": {},
   "outputs": [],
   "source": []
  }
 ],
 "metadata": {
  "kernelspec": {
   "display_name": "Python 3",
   "language": "python",
   "name": "python3"
  },
  "language_info": {
   "codemirror_mode": {
    "name": "ipython",
    "version": 3
   },
   "file_extension": ".py",
   "mimetype": "text/x-python",
   "name": "python",
   "nbconvert_exporter": "python",
   "pygments_lexer": "ipython3",
   "version": "3.7.3"
  }
 },
 "nbformat": 4,
 "nbformat_minor": 2
}
